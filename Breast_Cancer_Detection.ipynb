{
  "nbformat": 4,
  "nbformat_minor": 0,
  "metadata": {
    "colab": {
      "provenance": []
    },
    "kernelspec": {
      "name": "python3",
      "display_name": "Python 3"
    },
    "language_info": {
      "name": "python"
    }
  },
  "cells": [
    {
      "cell_type": "code",
      "execution_count": 1,
      "metadata": {
        "id": "UQMvwri8xu-_"
      },
      "outputs": [],
      "source": [
        "import pandas as pd"
      ]
    },
    {
      "cell_type": "code",
      "source": [
        "import numpy as np"
      ],
      "metadata": {
        "id": "1_9oL1mQyDB8"
      },
      "execution_count": 2,
      "outputs": []
    },
    {
      "cell_type": "code",
      "source": [
        "from sklearn.datasets import load_breast_cancer\n",
        "from sklearn.preprocessing import StandardScaler\n",
        "\n",
        "from keras.models import Sequential\n",
        "from keras.layers import Dense"
      ],
      "metadata": {
        "id": "f5z7n6vzyDEB"
      },
      "execution_count": 3,
      "outputs": []
    },
    {
      "cell_type": "code",
      "source": [
        "data = load_breast_cancer()"
      ],
      "metadata": {
        "id": "IDSj2U0PyDFj"
      },
      "execution_count": 6,
      "outputs": []
    },
    {
      "cell_type": "code",
      "source": [
        "print(data['DESCR'])"
      ],
      "metadata": {
        "colab": {
          "base_uri": "https://localhost:8080/"
        },
        "id": "X5lR743q3_DM",
        "outputId": "122f87b7-e52d-45ca-ed2e-ea42a90b04ad"
      },
      "execution_count": 7,
      "outputs": [
        {
          "output_type": "stream",
          "name": "stdout",
          "text": [
            ".. _breast_cancer_dataset:\n",
            "\n",
            "Breast cancer wisconsin (diagnostic) dataset\n",
            "--------------------------------------------\n",
            "\n",
            "**Data Set Characteristics:**\n",
            "\n",
            "    :Number of Instances: 569\n",
            "\n",
            "    :Number of Attributes: 30 numeric, predictive attributes and the class\n",
            "\n",
            "    :Attribute Information:\n",
            "        - radius (mean of distances from center to points on the perimeter)\n",
            "        - texture (standard deviation of gray-scale values)\n",
            "        - perimeter\n",
            "        - area\n",
            "        - smoothness (local variation in radius lengths)\n",
            "        - compactness (perimeter^2 / area - 1.0)\n",
            "        - concavity (severity of concave portions of the contour)\n",
            "        - concave points (number of concave portions of the contour)\n",
            "        - symmetry\n",
            "        - fractal dimension (\"coastline approximation\" - 1)\n",
            "\n",
            "        The mean, standard error, and \"worst\" or largest (mean of the three\n",
            "        worst/largest values) of these features were computed for each image,\n",
            "        resulting in 30 features.  For instance, field 0 is Mean Radius, field\n",
            "        10 is Radius SE, field 20 is Worst Radius.\n",
            "\n",
            "        - class:\n",
            "                - WDBC-Malignant\n",
            "                - WDBC-Benign\n",
            "\n",
            "    :Summary Statistics:\n",
            "\n",
            "    ===================================== ====== ======\n",
            "                                           Min    Max\n",
            "    ===================================== ====== ======\n",
            "    radius (mean):                        6.981  28.11\n",
            "    texture (mean):                       9.71   39.28\n",
            "    perimeter (mean):                     43.79  188.5\n",
            "    area (mean):                          143.5  2501.0\n",
            "    smoothness (mean):                    0.053  0.163\n",
            "    compactness (mean):                   0.019  0.345\n",
            "    concavity (mean):                     0.0    0.427\n",
            "    concave points (mean):                0.0    0.201\n",
            "    symmetry (mean):                      0.106  0.304\n",
            "    fractal dimension (mean):             0.05   0.097\n",
            "    radius (standard error):              0.112  2.873\n",
            "    texture (standard error):             0.36   4.885\n",
            "    perimeter (standard error):           0.757  21.98\n",
            "    area (standard error):                6.802  542.2\n",
            "    smoothness (standard error):          0.002  0.031\n",
            "    compactness (standard error):         0.002  0.135\n",
            "    concavity (standard error):           0.0    0.396\n",
            "    concave points (standard error):      0.0    0.053\n",
            "    symmetry (standard error):            0.008  0.079\n",
            "    fractal dimension (standard error):   0.001  0.03\n",
            "    radius (worst):                       7.93   36.04\n",
            "    texture (worst):                      12.02  49.54\n",
            "    perimeter (worst):                    50.41  251.2\n",
            "    area (worst):                         185.2  4254.0\n",
            "    smoothness (worst):                   0.071  0.223\n",
            "    compactness (worst):                  0.027  1.058\n",
            "    concavity (worst):                    0.0    1.252\n",
            "    concave points (worst):               0.0    0.291\n",
            "    symmetry (worst):                     0.156  0.664\n",
            "    fractal dimension (worst):            0.055  0.208\n",
            "    ===================================== ====== ======\n",
            "\n",
            "    :Missing Attribute Values: None\n",
            "\n",
            "    :Class Distribution: 212 - Malignant, 357 - Benign\n",
            "\n",
            "    :Creator:  Dr. William H. Wolberg, W. Nick Street, Olvi L. Mangasarian\n",
            "\n",
            "    :Donor: Nick Street\n",
            "\n",
            "    :Date: November, 1995\n",
            "\n",
            "This is a copy of UCI ML Breast Cancer Wisconsin (Diagnostic) datasets.\n",
            "https://goo.gl/U2Uwz2\n",
            "\n",
            "Features are computed from a digitized image of a fine needle\n",
            "aspirate (FNA) of a breast mass.  They describe\n",
            "characteristics of the cell nuclei present in the image.\n",
            "\n",
            "Separating plane described above was obtained using\n",
            "Multisurface Method-Tree (MSM-T) [K. P. Bennett, \"Decision Tree\n",
            "Construction Via Linear Programming.\" Proceedings of the 4th\n",
            "Midwest Artificial Intelligence and Cognitive Science Society,\n",
            "pp. 97-101, 1992], a classification method which uses linear\n",
            "programming to construct a decision tree.  Relevant features\n",
            "were selected using an exhaustive search in the space of 1-4\n",
            "features and 1-3 separating planes.\n",
            "\n",
            "The actual linear program used to obtain the separating plane\n",
            "in the 3-dimensional space is that described in:\n",
            "[K. P. Bennett and O. L. Mangasarian: \"Robust Linear\n",
            "Programming Discrimination of Two Linearly Inseparable Sets\",\n",
            "Optimization Methods and Software 1, 1992, 23-34].\n",
            "\n",
            "This database is also available through the UW CS ftp server:\n",
            "\n",
            "ftp ftp.cs.wisc.edu\n",
            "cd math-prog/cpo-dataset/machine-learn/WDBC/\n",
            "\n",
            ".. topic:: References\n",
            "\n",
            "   - W.N. Street, W.H. Wolberg and O.L. Mangasarian. Nuclear feature extraction \n",
            "     for breast tumor diagnosis. IS&T/SPIE 1993 International Symposium on \n",
            "     Electronic Imaging: Science and Technology, volume 1905, pages 861-870,\n",
            "     San Jose, CA, 1993.\n",
            "   - O.L. Mangasarian, W.N. Street and W.H. Wolberg. Breast cancer diagnosis and \n",
            "     prognosis via linear programming. Operations Research, 43(4), pages 570-577, \n",
            "     July-August 1995.\n",
            "   - W.H. Wolberg, W.N. Street, and O.L. Mangasarian. Machine learning techniques\n",
            "     to diagnose breast cancer from fine-needle aspirates. Cancer Letters 77 (1994) \n",
            "     163-171.\n"
          ]
        }
      ]
    },
    {
      "cell_type": "code",
      "source": [
        "data['data'].shape"
      ],
      "metadata": {
        "colab": {
          "base_uri": "https://localhost:8080/"
        },
        "id": "7OQ2rfUa3_FS",
        "outputId": "0b5c7738-b425-495c-bbc0-037318e68682"
      },
      "execution_count": 8,
      "outputs": [
        {
          "output_type": "execute_result",
          "data": {
            "text/plain": [
              "(569, 30)"
            ]
          },
          "metadata": {},
          "execution_count": 8
        }
      ]
    },
    {
      "cell_type": "code",
      "source": [
        "data['feature_names']"
      ],
      "metadata": {
        "colab": {
          "base_uri": "https://localhost:8080/"
        },
        "id": "86axDAy23_HY",
        "outputId": "40e88ff1-d802-4fb4-ecad-e7564d2cc7a9"
      },
      "execution_count": 9,
      "outputs": [
        {
          "output_type": "execute_result",
          "data": {
            "text/plain": [
              "array(['mean radius', 'mean texture', 'mean perimeter', 'mean area',\n",
              "       'mean smoothness', 'mean compactness', 'mean concavity',\n",
              "       'mean concave points', 'mean symmetry', 'mean fractal dimension',\n",
              "       'radius error', 'texture error', 'perimeter error', 'area error',\n",
              "       'smoothness error', 'compactness error', 'concavity error',\n",
              "       'concave points error', 'symmetry error',\n",
              "       'fractal dimension error', 'worst radius', 'worst texture',\n",
              "       'worst perimeter', 'worst area', 'worst smoothness',\n",
              "       'worst compactness', 'worst concavity', 'worst concave points',\n",
              "       'worst symmetry', 'worst fractal dimension'], dtype='<U23')"
            ]
          },
          "metadata": {},
          "execution_count": 9
        }
      ]
    },
    {
      "cell_type": "code",
      "source": [
        "data['data'][0]"
      ],
      "metadata": {
        "colab": {
          "base_uri": "https://localhost:8080/"
        },
        "id": "a9oWUiIc4i-I",
        "outputId": "862cd1b2-025f-4e27-f407-11139c72e89d"
      },
      "execution_count": 10,
      "outputs": [
        {
          "output_type": "execute_result",
          "data": {
            "text/plain": [
              "array([1.799e+01, 1.038e+01, 1.228e+02, 1.001e+03, 1.184e-01, 2.776e-01,\n",
              "       3.001e-01, 1.471e-01, 2.419e-01, 7.871e-02, 1.095e+00, 9.053e-01,\n",
              "       8.589e+00, 1.534e+02, 6.399e-03, 4.904e-02, 5.373e-02, 1.587e-02,\n",
              "       3.003e-02, 6.193e-03, 2.538e+01, 1.733e+01, 1.846e+02, 2.019e+03,\n",
              "       1.622e-01, 6.656e-01, 7.119e-01, 2.654e-01, 4.601e-01, 1.189e-01])"
            ]
          },
          "metadata": {},
          "execution_count": 10
        }
      ]
    },
    {
      "cell_type": "code",
      "source": [
        "j = 0\n",
        "for i in data['feature_names']:\n",
        "  print(i,\":\",data['data'][0][j])\n",
        "  j+=1"
      ],
      "metadata": {
        "colab": {
          "base_uri": "https://localhost:8080/"
        },
        "id": "vlxCK9o_4i__",
        "outputId": "4b86129f-2f02-4652-df98-609066be0c52"
      },
      "execution_count": 13,
      "outputs": [
        {
          "output_type": "stream",
          "name": "stdout",
          "text": [
            "mean radius : 17.99\n",
            "mean texture : 10.38\n",
            "mean perimeter : 122.8\n",
            "mean area : 1001.0\n",
            "mean smoothness : 0.1184\n",
            "mean compactness : 0.2776\n",
            "mean concavity : 0.3001\n",
            "mean concave points : 0.1471\n",
            "mean symmetry : 0.2419\n",
            "mean fractal dimension : 0.07871\n",
            "radius error : 1.095\n",
            "texture error : 0.9053\n",
            "perimeter error : 8.589\n",
            "area error : 153.4\n",
            "smoothness error : 0.006399\n",
            "compactness error : 0.04904\n",
            "concavity error : 0.05373\n",
            "concave points error : 0.01587\n",
            "symmetry error : 0.03003\n",
            "fractal dimension error : 0.006193\n",
            "worst radius : 25.38\n",
            "worst texture : 17.33\n",
            "worst perimeter : 184.6\n",
            "worst area : 2019.0\n",
            "worst smoothness : 0.1622\n",
            "worst compactness : 0.6656\n",
            "worst concavity : 0.7119\n",
            "worst concave points : 0.2654\n",
            "worst symmetry : 0.4601\n",
            "worst fractal dimension : 0.1189\n"
          ]
        }
      ]
    },
    {
      "cell_type": "code",
      "source": [
        "feature = data['data']"
      ],
      "metadata": {
        "id": "XO8prfcf4jB-"
      },
      "execution_count": 14,
      "outputs": []
    },
    {
      "cell_type": "code",
      "source": [
        "label = data['target']"
      ],
      "metadata": {
        "id": "0h5ZpSD04jD8"
      },
      "execution_count": 15,
      "outputs": []
    },
    {
      "cell_type": "code",
      "source": [
        "data['target_names']"
      ],
      "metadata": {
        "colab": {
          "base_uri": "https://localhost:8080/"
        },
        "id": "9j5Xfpji4jFZ",
        "outputId": "7f07a8c8-66ae-4bf5-e63a-850df507fffe"
      },
      "execution_count": 16,
      "outputs": [
        {
          "output_type": "execute_result",
          "data": {
            "text/plain": [
              "array(['malignant', 'benign'], dtype='<U9')"
            ]
          },
          "metadata": {},
          "execution_count": 16
        }
      ]
    },
    {
      "cell_type": "code",
      "source": [
        "feature.shape"
      ],
      "metadata": {
        "colab": {
          "base_uri": "https://localhost:8080/"
        },
        "id": "hsYNTajs4jI1",
        "outputId": "f87c5907-363a-4dd6-a534-3a3775702b35"
      },
      "execution_count": 17,
      "outputs": [
        {
          "output_type": "execute_result",
          "data": {
            "text/plain": [
              "(569, 30)"
            ]
          },
          "metadata": {},
          "execution_count": 17
        }
      ]
    },
    {
      "cell_type": "code",
      "source": [
        "label.shape"
      ],
      "metadata": {
        "colab": {
          "base_uri": "https://localhost:8080/"
        },
        "id": "hF6kWEXu5NOh",
        "outputId": "3994f02c-db24-4e63-d88b-8b12a668fb4d"
      },
      "execution_count": 18,
      "outputs": [
        {
          "output_type": "execute_result",
          "data": {
            "text/plain": [
              "(569,)"
            ]
          },
          "metadata": {},
          "execution_count": 18
        }
      ]
    },
    {
      "cell_type": "code",
      "source": [
        "scale = StandardScaler()\n",
        "\n",
        "feature = scale.fit_transform(feature)"
      ],
      "metadata": {
        "id": "RYr68MT65NQd"
      },
      "execution_count": 19,
      "outputs": []
    },
    {
      "cell_type": "code",
      "source": [
        "j = 0\n",
        "for i in data['feature_names']:\n",
        "  print(i,\":\",feature[0][j])\n",
        "  j+=1"
      ],
      "metadata": {
        "colab": {
          "base_uri": "https://localhost:8080/"
        },
        "id": "aPlyI5Ja5NSV",
        "outputId": "3d77e6b9-52e7-4981-8ec3-50a930a87efd"
      },
      "execution_count": 20,
      "outputs": [
        {
          "output_type": "stream",
          "name": "stdout",
          "text": [
            "mean radius : 1.0970639814699807\n",
            "mean texture : -2.0733350146975935\n",
            "mean perimeter : 1.2699336881399383\n",
            "mean area : 0.9843749048031144\n",
            "mean smoothness : 1.568466329243428\n",
            "mean compactness : 3.2835146709868264\n",
            "mean concavity : 2.652873983743168\n",
            "mean concave points : 2.532475216403245\n",
            "mean symmetry : 2.2175150059646405\n",
            "mean fractal dimension : 2.255746885296269\n",
            "radius error : 2.4897339267376193\n",
            "texture error : -0.5652650590684639\n",
            "perimeter error : 2.833030865855184\n",
            "area error : 2.4875775569611043\n",
            "smoothness error : -0.21400164666895383\n",
            "compactness error : 1.3168615683959484\n",
            "concavity error : 0.72402615808036\n",
            "concave points error : 0.6608199414286064\n",
            "symmetry error : 1.1487566671861758\n",
            "fractal dimension error : 0.9070830809973359\n",
            "worst radius : 1.8866896251792757\n",
            "worst texture : -1.3592934737640827\n",
            "worst perimeter : 2.3036006236225606\n",
            "worst area : 2.0012374893299207\n",
            "worst smoothness : 1.3076862710715387\n",
            "worst compactness : 2.616665023512603\n",
            "worst concavity : 2.1095263465722556\n",
            "worst concave points : 2.296076127561788\n",
            "worst symmetry : 2.750622244124955\n",
            "worst fractal dimension : 1.9370146123781782\n"
          ]
        }
      ]
    },
    {
      "cell_type": "code",
      "source": [
        "print(feature[568])\n",
        "print(data['target_names'][label[568]],label[568])"
      ],
      "metadata": {
        "colab": {
          "base_uri": "https://localhost:8080/"
        },
        "id": "P5EhmOZ-5NUb",
        "outputId": "7444752c-bfab-41cc-c248-b3b32a1eb6df"
      },
      "execution_count": 21,
      "outputs": [
        {
          "output_type": "stream",
          "name": "stdout",
          "text": [
            "[-1.80840125  1.22179204 -1.81438851 -1.34778924 -3.11208479 -1.15075248\n",
            " -1.11487284 -1.26181958 -0.8200699  -0.56103238 -0.07027874  0.3830925\n",
            " -0.15744905 -0.46615196  0.04934236 -1.16351619 -1.05750068 -1.91344745\n",
            "  0.75282996 -0.382754   -1.41089258  0.76418957 -1.43273495 -1.07581292\n",
            " -1.85901852 -1.2075525  -1.30583065 -1.74506282 -0.04813821 -0.75120669]\n",
            "benign 1\n"
          ]
        }
      ]
    },
    {
      "cell_type": "code",
      "source": [
        "df_frt = pd.DataFrame(feature , columns = data['feature_names'])\n",
        "df_lbl = pd.DataFrame(label , columns = ['label'])\n",
        "df = pd.concat([df_frt, df_lbl], axis=1)\n",
        "df = df.sample(frac = 1)\n",
        "\n",
        "feature = df.values[ : , : 30]\n",
        "label = df.values[ : ,30: ]"
      ],
      "metadata": {
        "id": "bekvIhqd5NWj"
      },
      "execution_count": 22,
      "outputs": []
    },
    {
      "cell_type": "code",
      "source": [
        "df"
      ],
      "metadata": {
        "colab": {
          "base_uri": "https://localhost:8080/",
          "height": 522
        },
        "id": "AIUloXG85NZ8",
        "outputId": "89838a4d-7efd-4731-e97e-682f1ce9538c"
      },
      "execution_count": 23,
      "outputs": [
        {
          "output_type": "execute_result",
          "data": {
            "text/plain": [
              "     mean radius  mean texture  mean perimeter  mean area  mean smoothness  \\\n",
              "149    -0.109996     -0.321053       -0.158542  -0.198772        -1.204139   \n",
              "489     0.727846      0.211845        0.623248   0.576531        -1.522249   \n",
              "403    -0.337208     -0.725963       -0.362022  -0.418905         0.172912   \n",
              "527    -0.507616     -1.633519       -0.536668  -0.530110        -0.450497   \n",
              "534    -0.899556     -0.388538       -0.872369  -0.822768         0.036274   \n",
              "..           ...           ...             ...        ...              ...   \n",
              "439    -0.030472     -0.844644       -0.097993  -0.137624        -1.188483   \n",
              "492     1.102744      0.295619        1.088697   1.001440         0.266139   \n",
              "451     1.551487      1.328837        1.471766   1.524754         0.486752   \n",
              "373     1.849702     -0.451369        1.764216   1.934305        -0.135234   \n",
              "6       1.170908      0.160649        1.138125   1.095295        -0.123136   \n",
              "\n",
              "     mean compactness  mean concavity  mean concave points  mean symmetry  \\\n",
              "149         -0.769070       -0.753164            -0.919018      -1.236277   \n",
              "489         -0.629587       -0.656742            -0.666752       0.125524   \n",
              "403         -0.302863       -0.701061            -0.645343      -0.279730   \n",
              "527         -0.782146       -0.743497            -0.579053      -0.447674   \n",
              "534         -0.129268       -0.454105            -0.542683      -0.703240   \n",
              "..                ...             ...                  ...            ...   \n",
              "439         -0.919734       -0.852851            -0.577763      -0.812768   \n",
              "492          0.465430        0.354059             0.740309       1.111279   \n",
              "451         -0.106715        0.962975             1.075889      -0.542598   \n",
              "373          0.061763        0.802271             1.044420      -0.878485   \n",
              "6            0.088295        0.300072             0.646935      -0.064325   \n",
              "\n",
              "     mean fractal dimension  ...  worst texture  worst perimeter  worst area  \\\n",
              "149               -0.991984  ...      -0.523905        -0.299980   -0.271919   \n",
              "489               -1.353473  ...       0.143755         0.596872    0.357589   \n",
              "403               -0.113069  ...      -0.432712        -0.523373   -0.526817   \n",
              "527               -0.668770  ...      -1.043377        -0.596944   -0.554943   \n",
              "534                0.181792  ...       0.135613        -0.918334   -0.831639   \n",
              "..                      ...  ...            ...              ...         ...   \n",
              "439               -0.983478  ...      -1.036863        -0.319638   -0.336962   \n",
              "492               -0.287435  ...       0.062333         1.076424    0.958795   \n",
              "451               -1.259911  ...       0.860267         0.969195    0.950006   \n",
              "373               -1.136580  ...      -0.408286         1.773413    1.872910   \n",
              "6                 -0.762332  ...       0.322883         1.368325    1.275220   \n",
              "\n",
              "     worst smoothness  worst compactness  worst concavity  \\\n",
              "149         -1.545592          -0.457162        -0.555498   \n",
              "489         -1.379454           0.240047        -0.117484   \n",
              "403         -0.664929          -0.371919        -0.437479   \n",
              "527         -0.138898          -0.298127        -0.446594   \n",
              "534          0.457270          -0.020770        -0.287316   \n",
              "..                ...                ...              ...   \n",
              "439         -1.269864          -0.970527        -1.005506   \n",
              "492         -0.064377          -0.137184        -0.085341   \n",
              "451          0.895629          -0.443803         0.602144   \n",
              "373          1.044671           0.325926         0.689459   \n",
              "6            0.518640           0.021215         0.509552   \n",
              "\n",
              "     worst concave points  worst symmetry  worst fractal dimension  label  \n",
              "149             -0.828574       -0.891002                -0.765061      1  \n",
              "489             -0.414715        2.873574                -0.427578      0  \n",
              "403             -0.467856        0.641036                -0.310651      1  \n",
              "527             -0.115817        0.338511                -0.444757      1  \n",
              "534             -0.243568       -0.989687                -0.064605      1  \n",
              "..                    ...             ...                      ...    ...  \n",
              "439             -0.494046       -1.237207                -0.933525      1  \n",
              "492              0.522178        0.566618                -0.426470      0  \n",
              "451              0.487156       -0.983215                -1.276549      0  \n",
              "373              1.470795       -0.342574                -0.742340      0  \n",
              "6                1.196716        0.262476                -0.014730      0  \n",
              "\n",
              "[569 rows x 31 columns]"
            ],
            "text/html": [
              "\n",
              "  <div id=\"df-4d53ed3b-363a-4c4b-b66b-37b3fcb265d8\">\n",
              "    <div class=\"colab-df-container\">\n",
              "      <div>\n",
              "<style scoped>\n",
              "    .dataframe tbody tr th:only-of-type {\n",
              "        vertical-align: middle;\n",
              "    }\n",
              "\n",
              "    .dataframe tbody tr th {\n",
              "        vertical-align: top;\n",
              "    }\n",
              "\n",
              "    .dataframe thead th {\n",
              "        text-align: right;\n",
              "    }\n",
              "</style>\n",
              "<table border=\"1\" class=\"dataframe\">\n",
              "  <thead>\n",
              "    <tr style=\"text-align: right;\">\n",
              "      <th></th>\n",
              "      <th>mean radius</th>\n",
              "      <th>mean texture</th>\n",
              "      <th>mean perimeter</th>\n",
              "      <th>mean area</th>\n",
              "      <th>mean smoothness</th>\n",
              "      <th>mean compactness</th>\n",
              "      <th>mean concavity</th>\n",
              "      <th>mean concave points</th>\n",
              "      <th>mean symmetry</th>\n",
              "      <th>mean fractal dimension</th>\n",
              "      <th>...</th>\n",
              "      <th>worst texture</th>\n",
              "      <th>worst perimeter</th>\n",
              "      <th>worst area</th>\n",
              "      <th>worst smoothness</th>\n",
              "      <th>worst compactness</th>\n",
              "      <th>worst concavity</th>\n",
              "      <th>worst concave points</th>\n",
              "      <th>worst symmetry</th>\n",
              "      <th>worst fractal dimension</th>\n",
              "      <th>label</th>\n",
              "    </tr>\n",
              "  </thead>\n",
              "  <tbody>\n",
              "    <tr>\n",
              "      <th>149</th>\n",
              "      <td>-0.109996</td>\n",
              "      <td>-0.321053</td>\n",
              "      <td>-0.158542</td>\n",
              "      <td>-0.198772</td>\n",
              "      <td>-1.204139</td>\n",
              "      <td>-0.769070</td>\n",
              "      <td>-0.753164</td>\n",
              "      <td>-0.919018</td>\n",
              "      <td>-1.236277</td>\n",
              "      <td>-0.991984</td>\n",
              "      <td>...</td>\n",
              "      <td>-0.523905</td>\n",
              "      <td>-0.299980</td>\n",
              "      <td>-0.271919</td>\n",
              "      <td>-1.545592</td>\n",
              "      <td>-0.457162</td>\n",
              "      <td>-0.555498</td>\n",
              "      <td>-0.828574</td>\n",
              "      <td>-0.891002</td>\n",
              "      <td>-0.765061</td>\n",
              "      <td>1</td>\n",
              "    </tr>\n",
              "    <tr>\n",
              "      <th>489</th>\n",
              "      <td>0.727846</td>\n",
              "      <td>0.211845</td>\n",
              "      <td>0.623248</td>\n",
              "      <td>0.576531</td>\n",
              "      <td>-1.522249</td>\n",
              "      <td>-0.629587</td>\n",
              "      <td>-0.656742</td>\n",
              "      <td>-0.666752</td>\n",
              "      <td>0.125524</td>\n",
              "      <td>-1.353473</td>\n",
              "      <td>...</td>\n",
              "      <td>0.143755</td>\n",
              "      <td>0.596872</td>\n",
              "      <td>0.357589</td>\n",
              "      <td>-1.379454</td>\n",
              "      <td>0.240047</td>\n",
              "      <td>-0.117484</td>\n",
              "      <td>-0.414715</td>\n",
              "      <td>2.873574</td>\n",
              "      <td>-0.427578</td>\n",
              "      <td>0</td>\n",
              "    </tr>\n",
              "    <tr>\n",
              "      <th>403</th>\n",
              "      <td>-0.337208</td>\n",
              "      <td>-0.725963</td>\n",
              "      <td>-0.362022</td>\n",
              "      <td>-0.418905</td>\n",
              "      <td>0.172912</td>\n",
              "      <td>-0.302863</td>\n",
              "      <td>-0.701061</td>\n",
              "      <td>-0.645343</td>\n",
              "      <td>-0.279730</td>\n",
              "      <td>-0.113069</td>\n",
              "      <td>...</td>\n",
              "      <td>-0.432712</td>\n",
              "      <td>-0.523373</td>\n",
              "      <td>-0.526817</td>\n",
              "      <td>-0.664929</td>\n",
              "      <td>-0.371919</td>\n",
              "      <td>-0.437479</td>\n",
              "      <td>-0.467856</td>\n",
              "      <td>0.641036</td>\n",
              "      <td>-0.310651</td>\n",
              "      <td>1</td>\n",
              "    </tr>\n",
              "    <tr>\n",
              "      <th>527</th>\n",
              "      <td>-0.507616</td>\n",
              "      <td>-1.633519</td>\n",
              "      <td>-0.536668</td>\n",
              "      <td>-0.530110</td>\n",
              "      <td>-0.450497</td>\n",
              "      <td>-0.782146</td>\n",
              "      <td>-0.743497</td>\n",
              "      <td>-0.579053</td>\n",
              "      <td>-0.447674</td>\n",
              "      <td>-0.668770</td>\n",
              "      <td>...</td>\n",
              "      <td>-1.043377</td>\n",
              "      <td>-0.596944</td>\n",
              "      <td>-0.554943</td>\n",
              "      <td>-0.138898</td>\n",
              "      <td>-0.298127</td>\n",
              "      <td>-0.446594</td>\n",
              "      <td>-0.115817</td>\n",
              "      <td>0.338511</td>\n",
              "      <td>-0.444757</td>\n",
              "      <td>1</td>\n",
              "    </tr>\n",
              "    <tr>\n",
              "      <th>534</th>\n",
              "      <td>-0.899556</td>\n",
              "      <td>-0.388538</td>\n",
              "      <td>-0.872369</td>\n",
              "      <td>-0.822768</td>\n",
              "      <td>0.036274</td>\n",
              "      <td>-0.129268</td>\n",
              "      <td>-0.454105</td>\n",
              "      <td>-0.542683</td>\n",
              "      <td>-0.703240</td>\n",
              "      <td>0.181792</td>\n",
              "      <td>...</td>\n",
              "      <td>0.135613</td>\n",
              "      <td>-0.918334</td>\n",
              "      <td>-0.831639</td>\n",
              "      <td>0.457270</td>\n",
              "      <td>-0.020770</td>\n",
              "      <td>-0.287316</td>\n",
              "      <td>-0.243568</td>\n",
              "      <td>-0.989687</td>\n",
              "      <td>-0.064605</td>\n",
              "      <td>1</td>\n",
              "    </tr>\n",
              "    <tr>\n",
              "      <th>...</th>\n",
              "      <td>...</td>\n",
              "      <td>...</td>\n",
              "      <td>...</td>\n",
              "      <td>...</td>\n",
              "      <td>...</td>\n",
              "      <td>...</td>\n",
              "      <td>...</td>\n",
              "      <td>...</td>\n",
              "      <td>...</td>\n",
              "      <td>...</td>\n",
              "      <td>...</td>\n",
              "      <td>...</td>\n",
              "      <td>...</td>\n",
              "      <td>...</td>\n",
              "      <td>...</td>\n",
              "      <td>...</td>\n",
              "      <td>...</td>\n",
              "      <td>...</td>\n",
              "      <td>...</td>\n",
              "      <td>...</td>\n",
              "      <td>...</td>\n",
              "    </tr>\n",
              "    <tr>\n",
              "      <th>439</th>\n",
              "      <td>-0.030472</td>\n",
              "      <td>-0.844644</td>\n",
              "      <td>-0.097993</td>\n",
              "      <td>-0.137624</td>\n",
              "      <td>-1.188483</td>\n",
              "      <td>-0.919734</td>\n",
              "      <td>-0.852851</td>\n",
              "      <td>-0.577763</td>\n",
              "      <td>-0.812768</td>\n",
              "      <td>-0.983478</td>\n",
              "      <td>...</td>\n",
              "      <td>-1.036863</td>\n",
              "      <td>-0.319638</td>\n",
              "      <td>-0.336962</td>\n",
              "      <td>-1.269864</td>\n",
              "      <td>-0.970527</td>\n",
              "      <td>-1.005506</td>\n",
              "      <td>-0.494046</td>\n",
              "      <td>-1.237207</td>\n",
              "      <td>-0.933525</td>\n",
              "      <td>1</td>\n",
              "    </tr>\n",
              "    <tr>\n",
              "      <th>492</th>\n",
              "      <td>1.102744</td>\n",
              "      <td>0.295619</td>\n",
              "      <td>1.088697</td>\n",
              "      <td>1.001440</td>\n",
              "      <td>0.266139</td>\n",
              "      <td>0.465430</td>\n",
              "      <td>0.354059</td>\n",
              "      <td>0.740309</td>\n",
              "      <td>1.111279</td>\n",
              "      <td>-0.287435</td>\n",
              "      <td>...</td>\n",
              "      <td>0.062333</td>\n",
              "      <td>1.076424</td>\n",
              "      <td>0.958795</td>\n",
              "      <td>-0.064377</td>\n",
              "      <td>-0.137184</td>\n",
              "      <td>-0.085341</td>\n",
              "      <td>0.522178</td>\n",
              "      <td>0.566618</td>\n",
              "      <td>-0.426470</td>\n",
              "      <td>0</td>\n",
              "    </tr>\n",
              "    <tr>\n",
              "      <th>451</th>\n",
              "      <td>1.551487</td>\n",
              "      <td>1.328837</td>\n",
              "      <td>1.471766</td>\n",
              "      <td>1.524754</td>\n",
              "      <td>0.486752</td>\n",
              "      <td>-0.106715</td>\n",
              "      <td>0.962975</td>\n",
              "      <td>1.075889</td>\n",
              "      <td>-0.542598</td>\n",
              "      <td>-1.259911</td>\n",
              "      <td>...</td>\n",
              "      <td>0.860267</td>\n",
              "      <td>0.969195</td>\n",
              "      <td>0.950006</td>\n",
              "      <td>0.895629</td>\n",
              "      <td>-0.443803</td>\n",
              "      <td>0.602144</td>\n",
              "      <td>0.487156</td>\n",
              "      <td>-0.983215</td>\n",
              "      <td>-1.276549</td>\n",
              "      <td>0</td>\n",
              "    </tr>\n",
              "    <tr>\n",
              "      <th>373</th>\n",
              "      <td>1.849702</td>\n",
              "      <td>-0.451369</td>\n",
              "      <td>1.764216</td>\n",
              "      <td>1.934305</td>\n",
              "      <td>-0.135234</td>\n",
              "      <td>0.061763</td>\n",
              "      <td>0.802271</td>\n",
              "      <td>1.044420</td>\n",
              "      <td>-0.878485</td>\n",
              "      <td>-1.136580</td>\n",
              "      <td>...</td>\n",
              "      <td>-0.408286</td>\n",
              "      <td>1.773413</td>\n",
              "      <td>1.872910</td>\n",
              "      <td>1.044671</td>\n",
              "      <td>0.325926</td>\n",
              "      <td>0.689459</td>\n",
              "      <td>1.470795</td>\n",
              "      <td>-0.342574</td>\n",
              "      <td>-0.742340</td>\n",
              "      <td>0</td>\n",
              "    </tr>\n",
              "    <tr>\n",
              "      <th>6</th>\n",
              "      <td>1.170908</td>\n",
              "      <td>0.160649</td>\n",
              "      <td>1.138125</td>\n",
              "      <td>1.095295</td>\n",
              "      <td>-0.123136</td>\n",
              "      <td>0.088295</td>\n",
              "      <td>0.300072</td>\n",
              "      <td>0.646935</td>\n",
              "      <td>-0.064325</td>\n",
              "      <td>-0.762332</td>\n",
              "      <td>...</td>\n",
              "      <td>0.322883</td>\n",
              "      <td>1.368325</td>\n",
              "      <td>1.275220</td>\n",
              "      <td>0.518640</td>\n",
              "      <td>0.021215</td>\n",
              "      <td>0.509552</td>\n",
              "      <td>1.196716</td>\n",
              "      <td>0.262476</td>\n",
              "      <td>-0.014730</td>\n",
              "      <td>0</td>\n",
              "    </tr>\n",
              "  </tbody>\n",
              "</table>\n",
              "<p>569 rows × 31 columns</p>\n",
              "</div>\n",
              "      <button class=\"colab-df-convert\" onclick=\"convertToInteractive('df-4d53ed3b-363a-4c4b-b66b-37b3fcb265d8')\"\n",
              "              title=\"Convert this dataframe to an interactive table.\"\n",
              "              style=\"display:none;\">\n",
              "        \n",
              "  <svg xmlns=\"http://www.w3.org/2000/svg\" height=\"24px\"viewBox=\"0 0 24 24\"\n",
              "       width=\"24px\">\n",
              "    <path d=\"M0 0h24v24H0V0z\" fill=\"none\"/>\n",
              "    <path d=\"M18.56 5.44l.94 2.06.94-2.06 2.06-.94-2.06-.94-.94-2.06-.94 2.06-2.06.94zm-11 1L8.5 8.5l.94-2.06 2.06-.94-2.06-.94L8.5 2.5l-.94 2.06-2.06.94zm10 10l.94 2.06.94-2.06 2.06-.94-2.06-.94-.94-2.06-.94 2.06-2.06.94z\"/><path d=\"M17.41 7.96l-1.37-1.37c-.4-.4-.92-.59-1.43-.59-.52 0-1.04.2-1.43.59L10.3 9.45l-7.72 7.72c-.78.78-.78 2.05 0 2.83L4 21.41c.39.39.9.59 1.41.59.51 0 1.02-.2 1.41-.59l7.78-7.78 2.81-2.81c.8-.78.8-2.07 0-2.86zM5.41 20L4 18.59l7.72-7.72 1.47 1.35L5.41 20z\"/>\n",
              "  </svg>\n",
              "      </button>\n",
              "      \n",
              "  <style>\n",
              "    .colab-df-container {\n",
              "      display:flex;\n",
              "      flex-wrap:wrap;\n",
              "      gap: 12px;\n",
              "    }\n",
              "\n",
              "    .colab-df-convert {\n",
              "      background-color: #E8F0FE;\n",
              "      border: none;\n",
              "      border-radius: 50%;\n",
              "      cursor: pointer;\n",
              "      display: none;\n",
              "      fill: #1967D2;\n",
              "      height: 32px;\n",
              "      padding: 0 0 0 0;\n",
              "      width: 32px;\n",
              "    }\n",
              "\n",
              "    .colab-df-convert:hover {\n",
              "      background-color: #E2EBFA;\n",
              "      box-shadow: 0px 1px 2px rgba(60, 64, 67, 0.3), 0px 1px 3px 1px rgba(60, 64, 67, 0.15);\n",
              "      fill: #174EA6;\n",
              "    }\n",
              "\n",
              "    [theme=dark] .colab-df-convert {\n",
              "      background-color: #3B4455;\n",
              "      fill: #D2E3FC;\n",
              "    }\n",
              "\n",
              "    [theme=dark] .colab-df-convert:hover {\n",
              "      background-color: #434B5C;\n",
              "      box-shadow: 0px 1px 3px 1px rgba(0, 0, 0, 0.15);\n",
              "      filter: drop-shadow(0px 1px 2px rgba(0, 0, 0, 0.3));\n",
              "      fill: #FFFFFF;\n",
              "    }\n",
              "  </style>\n",
              "\n",
              "      <script>\n",
              "        const buttonEl =\n",
              "          document.querySelector('#df-4d53ed3b-363a-4c4b-b66b-37b3fcb265d8 button.colab-df-convert');\n",
              "        buttonEl.style.display =\n",
              "          google.colab.kernel.accessAllowed ? 'block' : 'none';\n",
              "\n",
              "        async function convertToInteractive(key) {\n",
              "          const element = document.querySelector('#df-4d53ed3b-363a-4c4b-b66b-37b3fcb265d8');\n",
              "          const dataTable =\n",
              "            await google.colab.kernel.invokeFunction('convertToInteractive',\n",
              "                                                     [key], {});\n",
              "          if (!dataTable) return;\n",
              "\n",
              "          const docLinkHtml = 'Like what you see? Visit the ' +\n",
              "            '<a target=\"_blank\" href=https://colab.research.google.com/notebooks/data_table.ipynb>data table notebook</a>'\n",
              "            + ' to learn more about interactive tables.';\n",
              "          element.innerHTML = '';\n",
              "          dataTable['output_type'] = 'display_data';\n",
              "          await google.colab.output.renderOutput(dataTable, element);\n",
              "          const docLink = document.createElement('div');\n",
              "          docLink.innerHTML = docLinkHtml;\n",
              "          element.appendChild(docLink);\n",
              "        }\n",
              "      </script>\n",
              "    </div>\n",
              "  </div>\n",
              "  "
            ]
          },
          "metadata": {},
          "execution_count": 23
        }
      ]
    },
    {
      "cell_type": "code",
      "source": [
        "#500 Training\n",
        "X_train = feature[:500]\n",
        "y_train = label[:500]\n",
        "\n",
        "#35 Validation\n",
        "X_val = feature[500:535]\n",
        "y_val = label[500:535]\n",
        "\n",
        "#34 Testing\n",
        "X_test = feature[535:]\n",
        "y_test = label[535:]"
      ],
      "metadata": {
        "id": "-jvtLJTk3_Jc"
      },
      "execution_count": 24,
      "outputs": []
    },
    {
      "cell_type": "code",
      "source": [
        "model = Sequential()\n",
        "\n",
        "model.add(Dense(32, activation = 'relu', input_dim = 30))\n",
        "model.add(Dense(64, activation = 'relu'))\n",
        "model.add(Dense(128, activation = 'relu'))\n",
        "model.add(Dense(64, activation = 'relu'))\n",
        "model.add(Dense(32, activation = 'relu'))\n",
        "model.add(Dense(1, activation = 'sigmoid'))\n",
        "\n",
        "model.compile( loss = 'binary_crossentropy' , optimizer = 'adam' , metrics = ['accuracy'])"
      ],
      "metadata": {
        "id": "vFARKrqr3_ND"
      },
      "execution_count": 25,
      "outputs": []
    },
    {
      "cell_type": "code",
      "source": [
        "model.fit( X_train , y_train, epochs = 10, batch_size = 5, validation_data = (X_val, y_val))"
      ],
      "metadata": {
        "colab": {
          "base_uri": "https://localhost:8080/"
        },
        "id": "qco_2wh75ocF",
        "outputId": "b7c09d6f-74a5-4768-b93f-14b11116d381"
      },
      "execution_count": 26,
      "outputs": [
        {
          "output_type": "stream",
          "name": "stdout",
          "text": [
            "Epoch 1/10\n",
            "100/100 [==============================] - 1s 4ms/step - loss: 0.1953 - accuracy: 0.9440 - val_loss: 0.1008 - val_accuracy: 0.9429\n",
            "Epoch 2/10\n",
            "100/100 [==============================] - 0s 2ms/step - loss: 0.0934 - accuracy: 0.9760 - val_loss: 0.0212 - val_accuracy: 1.0000\n",
            "Epoch 3/10\n",
            "100/100 [==============================] - 0s 2ms/step - loss: 0.0504 - accuracy: 0.9860 - val_loss: 0.0295 - val_accuracy: 0.9714\n",
            "Epoch 4/10\n",
            "100/100 [==============================] - 0s 2ms/step - loss: 0.0572 - accuracy: 0.9860 - val_loss: 0.0957 - val_accuracy: 0.9429\n",
            "Epoch 5/10\n",
            "100/100 [==============================] - 0s 2ms/step - loss: 0.0391 - accuracy: 0.9900 - val_loss: 0.0338 - val_accuracy: 0.9714\n",
            "Epoch 6/10\n",
            "100/100 [==============================] - 0s 2ms/step - loss: 0.0386 - accuracy: 0.9820 - val_loss: 0.0124 - val_accuracy: 1.0000\n",
            "Epoch 7/10\n",
            "100/100 [==============================] - 0s 2ms/step - loss: 0.0274 - accuracy: 0.9940 - val_loss: 0.0664 - val_accuracy: 0.9429\n",
            "Epoch 8/10\n",
            "100/100 [==============================] - 0s 2ms/step - loss: 0.0271 - accuracy: 0.9900 - val_loss: 0.0461 - val_accuracy: 0.9714\n",
            "Epoch 9/10\n",
            "100/100 [==============================] - 0s 2ms/step - loss: 0.0101 - accuracy: 0.9940 - val_loss: 0.0246 - val_accuracy: 1.0000\n",
            "Epoch 10/10\n",
            "100/100 [==============================] - 0s 2ms/step - loss: 0.0401 - accuracy: 0.9820 - val_loss: 0.0543 - val_accuracy: 0.9714\n"
          ]
        },
        {
          "output_type": "execute_result",
          "data": {
            "text/plain": [
              "<keras.callbacks.History at 0x7fdf9b609990>"
            ]
          },
          "metadata": {},
          "execution_count": 26
        }
      ]
    },
    {
      "cell_type": "code",
      "source": [
        "model.evaluate(X_test , y_test)"
      ],
      "metadata": {
        "colab": {
          "base_uri": "https://localhost:8080/"
        },
        "id": "cAvLBTTi5oeC",
        "outputId": "28eba21c-3378-493f-cbc8-da23fc42ecb9"
      },
      "execution_count": 27,
      "outputs": [
        {
          "output_type": "stream",
          "name": "stdout",
          "text": [
            "2/2 [==============================] - 0s 7ms/step - loss: 0.0245 - accuracy: 1.0000\n"
          ]
        },
        {
          "output_type": "execute_result",
          "data": {
            "text/plain": [
              "[0.024503091350197792, 1.0]"
            ]
          },
          "metadata": {},
          "execution_count": 27
        }
      ]
    },
    {
      "cell_type": "code",
      "source": [
        "model.evaluate(X_val , y_val)"
      ],
      "metadata": {
        "colab": {
          "base_uri": "https://localhost:8080/"
        },
        "id": "N9tmixhg5ofu",
        "outputId": "71709c70-4371-4047-d4c5-16be76a3df67"
      },
      "execution_count": 28,
      "outputs": [
        {
          "output_type": "stream",
          "name": "stdout",
          "text": [
            "2/2 [==============================] - 0s 6ms/step - loss: 0.0543 - accuracy: 0.9714\n"
          ]
        },
        {
          "output_type": "execute_result",
          "data": {
            "text/plain": [
              "[0.05428522825241089, 0.9714285731315613]"
            ]
          },
          "metadata": {},
          "execution_count": 28
        }
      ]
    },
    {
      "cell_type": "code",
      "source": [
        "for i in range(30):\n",
        "  sample = X_test[i]\n",
        "  sample = np.reshape(sample, (1,30))\n",
        "\n",
        "  if (model.predict(sample)[0][0] > 0.5):\n",
        "    print(\"-Benign\")\n",
        "  else:\n",
        "    print(\"-Malignant\")\n",
        "\n",
        "  if (y_test[i] == 1):\n",
        "    print(\"*Banign\")\n",
        "  else:\n",
        "    print(\"*Melignant\")\n",
        "  print(\"-----------\")"
      ],
      "metadata": {
        "colab": {
          "base_uri": "https://localhost:8080/"
        },
        "id": "zeKJedGC5ojW",
        "outputId": "cda70421-4a6a-490b-d77a-bde31b098dd2"
      },
      "execution_count": 29,
      "outputs": [
        {
          "output_type": "stream",
          "name": "stdout",
          "text": [
            "-Benign\n",
            "*Banign\n",
            "-----------\n",
            "-Benign\n",
            "*Banign\n",
            "-----------\n",
            "-Benign\n",
            "*Banign\n",
            "-----------\n",
            "-Benign\n",
            "*Banign\n",
            "-----------\n",
            "-Malignant\n",
            "*Melignant\n",
            "-----------\n",
            "-Benign\n",
            "*Banign\n",
            "-----------\n",
            "-Malignant\n",
            "*Melignant\n",
            "-----------\n",
            "-Benign\n",
            "*Banign\n",
            "-----------\n",
            "-Benign\n",
            "*Banign\n",
            "-----------\n",
            "-Benign\n",
            "*Banign\n",
            "-----------\n",
            "-Benign\n",
            "*Banign\n",
            "-----------\n",
            "-Benign\n",
            "*Banign\n",
            "-----------\n",
            "-Benign\n",
            "*Banign\n",
            "-----------\n",
            "-Benign\n",
            "*Banign\n",
            "-----------\n",
            "-Benign\n",
            "*Banign\n",
            "-----------\n",
            "-Benign\n",
            "*Banign\n",
            "-----------\n",
            "-Malignant\n",
            "*Melignant\n",
            "-----------\n",
            "-Malignant\n",
            "*Melignant\n",
            "-----------\n",
            "-Malignant\n",
            "*Melignant\n",
            "-----------\n",
            "-Benign\n",
            "*Banign\n",
            "-----------\n",
            "-Malignant\n",
            "*Melignant\n",
            "-----------\n",
            "-Malignant\n",
            "*Melignant\n",
            "-----------\n",
            "-Malignant\n",
            "*Melignant\n",
            "-----------\n",
            "-Benign\n",
            "*Banign\n",
            "-----------\n",
            "-Malignant\n",
            "*Melignant\n",
            "-----------\n",
            "-Malignant\n",
            "*Melignant\n",
            "-----------\n",
            "-Benign\n",
            "*Banign\n",
            "-----------\n",
            "-Malignant\n",
            "*Melignant\n",
            "-----------\n",
            "-Malignant\n",
            "*Melignant\n",
            "-----------\n",
            "-Benign\n",
            "*Banign\n",
            "-----------\n"
          ]
        }
      ]
    },
    {
      "cell_type": "code",
      "source": [
        "t = 0\n",
        "for i in y_val:\n",
        "  if (i == 1):\n",
        "    t += 1\n",
        "\n",
        "print(t)"
      ],
      "metadata": {
        "colab": {
          "base_uri": "https://localhost:8080/"
        },
        "id": "9HpSHGfHyDHe",
        "outputId": "42c9b360-0e77-44f8-f333-9e899af76844"
      },
      "execution_count": 30,
      "outputs": [
        {
          "output_type": "stream",
          "name": "stdout",
          "text": [
            "27\n"
          ]
        }
      ]
    },
    {
      "cell_type": "code",
      "source": [
        "t = 0\n",
        "for i in y_test:\n",
        "  if (i == 1):\n",
        "    t += 1\n",
        "\n",
        "print(t)"
      ],
      "metadata": {
        "colab": {
          "base_uri": "https://localhost:8080/"
        },
        "id": "NdWMzme46pEh",
        "outputId": "fb9a8bd3-685f-4244-cdcc-7217b6f9d993"
      },
      "execution_count": 31,
      "outputs": [
        {
          "output_type": "stream",
          "name": "stdout",
          "text": [
            "18\n"
          ]
        }
      ]
    },
    {
      "cell_type": "code",
      "source": [
        "X_test[0] * -.1"
      ],
      "metadata": {
        "colab": {
          "base_uri": "https://localhost:8080/"
        },
        "id": "hGWiY2q36pH6",
        "outputId": "3e7726b0-9112-4679-a66b-d5a4d3771423"
      },
      "execution_count": 32,
      "outputs": [
        {
          "output_type": "execute_result",
          "data": {
            "text/plain": [
              "array([ 0.03059661,  0.01628129,  0.02833488,  0.04063913, -0.08425788,\n",
              "       -0.04938569, -0.0090781 , -0.01834172, -0.08155527, -0.03136293,\n",
              "        0.03413304, -0.05318687,  0.01366578,  0.04129078, -0.02553507,\n",
              "       -0.07736152, -0.06374863, -0.11296059, -0.09756144, -0.07262789,\n",
              "        0.04305639,  0.01347082,  0.03884435,  0.05087103, -0.00846649,\n",
              "       -0.00733784,  0.00714278, -0.01704431, -0.03433647,  0.00429925])"
            ]
          },
          "metadata": {},
          "execution_count": 32
        }
      ]
    },
    {
      "cell_type": "code",
      "source": [
        "348/350"
      ],
      "metadata": {
        "colab": {
          "base_uri": "https://localhost:8080/"
        },
        "id": "Zbum-M3A6pQo",
        "outputId": "6d0d3f17-cadb-45b7-d3a9-927eb053d13d"
      },
      "execution_count": 33,
      "outputs": [
        {
          "output_type": "execute_result",
          "data": {
            "text/plain": [
              "0.9942857142857143"
            ]
          },
          "metadata": {},
          "execution_count": 33
        }
      ]
    },
    {
      "cell_type": "code",
      "source": [],
      "metadata": {
        "id": "qqBrT7iXyDK2"
      },
      "execution_count": null,
      "outputs": []
    }
  ]
}